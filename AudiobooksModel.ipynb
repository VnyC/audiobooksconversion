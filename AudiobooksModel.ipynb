{
 "cells": [
  {
   "cell_type": "code",
   "execution_count": 1,
   "id": "generous-buffer",
   "metadata": {},
   "outputs": [],
   "source": [
    "import numpy as np\n",
    "import tensorflow as tf"
   ]
  },
  {
   "cell_type": "code",
   "execution_count": 3,
   "id": "broke-lying",
   "metadata": {},
   "outputs": [],
   "source": [
    "trnpz = np.load('train.npz')\n",
    "train_inputs = trnpz['train_inputs'].astype(float)\n",
    "train_targets = trnpz['train_targets'].astype(int)\n",
    "\n",
    "valnpz = np.load('val.npz')\n",
    "val_inputs = valnpz['val_inputs'].astype(float)\n",
    "val_targets = valnpz['val_targets'].astype(int)\n",
    "\n",
    "tenpz = np.load('test.npz')\n",
    "test_inputs = tenpz['test_inputs'].astype(float)\n",
    "test_targets = tenpz['test_targets'].astype(int)"
   ]
  },
  {
   "cell_type": "code",
   "execution_count": 6,
   "id": "valued-munich",
   "metadata": {},
   "outputs": [],
   "source": [
    "input_size = 10\n",
    "output_size = 2\n",
    "hidden_layer_one_size = 50\n",
    "hidden_layer_two_size = 50\n",
    "\n",
    "model = tf.keras.Sequential([\n",
    "                            tf.keras.layers.Dense(hidden_layer_one_size, activation='relu'),\n",
    "                            tf.keras.layers.Dense(hidden_layer_one_size, activation='relu'),\n",
    "                            tf.keras.layers.Dense(output_size, activation='softmax')\n",
    "])\n",
    "\n",
    "model.compile(optimizer='adam', loss='sparse_categorical_crossentropy', metrics=['accuracy'])"
   ]
  },
  {
   "cell_type": "code",
   "execution_count": 13,
   "id": "atlantic-therapist",
   "metadata": {},
   "outputs": [
    {
     "name": "stdout",
     "output_type": "stream",
     "text": [
      "Epoch 1/100\n",
      "36/36 - 0s - loss: 0.3030 - accuracy: 0.8349 - val_loss: 0.2974 - val_accuracy: 0.8367\n",
      "Epoch 2/100\n",
      "36/36 - 0s - loss: 0.3029 - accuracy: 0.8310 - val_loss: 0.3013 - val_accuracy: 0.8367\n",
      "Epoch 3/100\n",
      "36/36 - 0s - loss: 0.3018 - accuracy: 0.8363 - val_loss: 0.3003 - val_accuracy: 0.8434\n",
      "Epoch 4/100\n",
      "36/36 - 0s - loss: 0.3028 - accuracy: 0.8312 - val_loss: 0.3051 - val_accuracy: 0.8345\n",
      "Epoch 5/100\n",
      "36/36 - 0s - loss: 0.3102 - accuracy: 0.8262 - val_loss: 0.3000 - val_accuracy: 0.8255\n",
      "Epoch 6/100\n",
      "36/36 - 0s - loss: 0.3034 - accuracy: 0.8357 - val_loss: 0.3046 - val_accuracy: 0.8255\n",
      "Epoch 7/100\n",
      "36/36 - 0s - loss: 0.3001 - accuracy: 0.8340 - val_loss: 0.3021 - val_accuracy: 0.8367\n",
      "Epoch 8/100\n",
      "36/36 - 0s - loss: 0.3017 - accuracy: 0.8307 - val_loss: 0.2977 - val_accuracy: 0.8300\n",
      "Epoch 9/100\n",
      "36/36 - 0s - loss: 0.3007 - accuracy: 0.8346 - val_loss: 0.3006 - val_accuracy: 0.8300\n",
      "Epoch 10/100\n",
      "36/36 - 0s - loss: 0.3028 - accuracy: 0.8318 - val_loss: 0.2955 - val_accuracy: 0.8412\n",
      "Epoch 11/100\n",
      "36/36 - 0s - loss: 0.3021 - accuracy: 0.8357 - val_loss: 0.3153 - val_accuracy: 0.8210\n",
      "Epoch 12/100\n",
      "36/36 - 0s - loss: 0.3023 - accuracy: 0.8324 - val_loss: 0.3026 - val_accuracy: 0.8345\n",
      "Epoch 13/100\n",
      "36/36 - 0s - loss: 0.3014 - accuracy: 0.8298 - val_loss: 0.2962 - val_accuracy: 0.8412\n",
      "Epoch 14/100\n",
      "36/36 - 0s - loss: 0.3030 - accuracy: 0.8324 - val_loss: 0.2967 - val_accuracy: 0.8367\n",
      "Epoch 15/100\n",
      "36/36 - 0s - loss: 0.3017 - accuracy: 0.8329 - val_loss: 0.2971 - val_accuracy: 0.8300\n",
      "Epoch 16/100\n",
      "36/36 - 0s - loss: 0.3027 - accuracy: 0.8371 - val_loss: 0.3179 - val_accuracy: 0.8143\n",
      "Epoch 17/100\n",
      "36/36 - 0s - loss: 0.3072 - accuracy: 0.8293 - val_loss: 0.2995 - val_accuracy: 0.8322\n",
      "Epoch 18/100\n",
      "36/36 - 0s - loss: 0.3013 - accuracy: 0.8318 - val_loss: 0.3075 - val_accuracy: 0.8166\n",
      "Epoch 19/100\n",
      "36/36 - 0s - loss: 0.3013 - accuracy: 0.8354 - val_loss: 0.3034 - val_accuracy: 0.8367\n",
      "Epoch 20/100\n",
      "36/36 - 0s - loss: 0.3105 - accuracy: 0.8273 - val_loss: 0.3029 - val_accuracy: 0.8389\n",
      "Epoch 21/100\n",
      "36/36 - 0s - loss: 0.3032 - accuracy: 0.8304 - val_loss: 0.3000 - val_accuracy: 0.8367\n",
      "Epoch 22/100\n",
      "36/36 - 0s - loss: 0.3029 - accuracy: 0.8346 - val_loss: 0.3182 - val_accuracy: 0.8098\n",
      "Epoch 23/100\n",
      "36/36 - 0s - loss: 0.3082 - accuracy: 0.8304 - val_loss: 0.3020 - val_accuracy: 0.8210\n",
      "Epoch 24/100\n",
      "36/36 - 0s - loss: 0.3025 - accuracy: 0.8326 - val_loss: 0.3117 - val_accuracy: 0.8188\n",
      "Epoch 25/100\n",
      "36/36 - 0s - loss: 0.3031 - accuracy: 0.8338 - val_loss: 0.2955 - val_accuracy: 0.8345\n",
      "Epoch 26/100\n",
      "36/36 - 0s - loss: 0.3015 - accuracy: 0.8351 - val_loss: 0.2995 - val_accuracy: 0.8300\n",
      "Epoch 27/100\n",
      "36/36 - 0s - loss: 0.3056 - accuracy: 0.8351 - val_loss: 0.2951 - val_accuracy: 0.8322\n",
      "Epoch 28/100\n",
      "36/36 - 0s - loss: 0.3036 - accuracy: 0.8363 - val_loss: 0.3056 - val_accuracy: 0.8277\n",
      "Epoch 29/100\n",
      "36/36 - 0s - loss: 0.3058 - accuracy: 0.8304 - val_loss: 0.3033 - val_accuracy: 0.8188\n",
      "Epoch 30/100\n",
      "36/36 - 0s - loss: 0.3029 - accuracy: 0.8377 - val_loss: 0.3064 - val_accuracy: 0.8277\n",
      "Epoch 31/100\n",
      "36/36 - 0s - loss: 0.3022 - accuracy: 0.8346 - val_loss: 0.3041 - val_accuracy: 0.8210\n",
      "Epoch 32/100\n",
      "36/36 - 0s - loss: 0.3016 - accuracy: 0.8335 - val_loss: 0.2949 - val_accuracy: 0.8345\n",
      "Epoch 33/100\n",
      "36/36 - 0s - loss: 0.3010 - accuracy: 0.8338 - val_loss: 0.2996 - val_accuracy: 0.8367\n",
      "Epoch 34/100\n",
      "36/36 - 0s - loss: 0.3025 - accuracy: 0.8335 - val_loss: 0.2974 - val_accuracy: 0.8389\n",
      "Epoch 35/100\n",
      "36/36 - 0s - loss: 0.3017 - accuracy: 0.8312 - val_loss: 0.3028 - val_accuracy: 0.8300\n",
      "Epoch 36/100\n",
      "36/36 - 0s - loss: 0.2997 - accuracy: 0.8343 - val_loss: 0.3013 - val_accuracy: 0.8367\n",
      "Epoch 37/100\n",
      "36/36 - 0s - loss: 0.3031 - accuracy: 0.8312 - val_loss: 0.3047 - val_accuracy: 0.8434\n",
      "Epoch 38/100\n",
      "36/36 - 0s - loss: 0.3000 - accuracy: 0.8354 - val_loss: 0.2967 - val_accuracy: 0.8367\n",
      "Epoch 39/100\n",
      "36/36 - 0s - loss: 0.2991 - accuracy: 0.8391 - val_loss: 0.3074 - val_accuracy: 0.8188\n",
      "Epoch 40/100\n",
      "36/36 - 0s - loss: 0.2998 - accuracy: 0.8340 - val_loss: 0.2975 - val_accuracy: 0.8434\n",
      "Epoch 41/100\n",
      "36/36 - 0s - loss: 0.3008 - accuracy: 0.8304 - val_loss: 0.2946 - val_accuracy: 0.8412\n",
      "Epoch 42/100\n",
      "36/36 - 0s - loss: 0.3050 - accuracy: 0.8304 - val_loss: 0.2957 - val_accuracy: 0.8300\n",
      "Epoch 43/100\n",
      "36/36 - 0s - loss: 0.3015 - accuracy: 0.8396 - val_loss: 0.3039 - val_accuracy: 0.8210\n",
      "Epoch 44/100\n",
      "36/36 - 0s - loss: 0.3006 - accuracy: 0.8338 - val_loss: 0.3008 - val_accuracy: 0.8300\n",
      "Epoch 45/100\n",
      "36/36 - 0s - loss: 0.3008 - accuracy: 0.8326 - val_loss: 0.3031 - val_accuracy: 0.8322\n",
      "Epoch 46/100\n",
      "36/36 - 0s - loss: 0.3000 - accuracy: 0.8321 - val_loss: 0.2981 - val_accuracy: 0.8434\n",
      "Epoch 47/100\n",
      "36/36 - 0s - loss: 0.2990 - accuracy: 0.8368 - val_loss: 0.3020 - val_accuracy: 0.8300\n",
      "Epoch 48/100\n",
      "36/36 - 0s - loss: 0.3033 - accuracy: 0.8338 - val_loss: 0.3090 - val_accuracy: 0.8367\n",
      "Epoch 49/100\n",
      "36/36 - 0s - loss: 0.3053 - accuracy: 0.8293 - val_loss: 0.3011 - val_accuracy: 0.8255\n",
      "Epoch 50/100\n",
      "36/36 - 0s - loss: 0.3033 - accuracy: 0.8296 - val_loss: 0.3082 - val_accuracy: 0.8188\n",
      "Epoch 51/100\n",
      "36/36 - 0s - loss: 0.2996 - accuracy: 0.8315 - val_loss: 0.2957 - val_accuracy: 0.8300\n",
      "Epoch 52/100\n",
      "36/36 - 0s - loss: 0.3008 - accuracy: 0.8326 - val_loss: 0.3040 - val_accuracy: 0.8188\n",
      "Epoch 53/100\n",
      "36/36 - 0s - loss: 0.2992 - accuracy: 0.8346 - val_loss: 0.3050 - val_accuracy: 0.8210\n",
      "Epoch 54/100\n",
      "36/36 - 0s - loss: 0.3034 - accuracy: 0.8310 - val_loss: 0.2933 - val_accuracy: 0.8412\n",
      "Epoch 55/100\n",
      "36/36 - 0s - loss: 0.3048 - accuracy: 0.8293 - val_loss: 0.3101 - val_accuracy: 0.8210\n",
      "Epoch 56/100\n",
      "36/36 - 0s - loss: 0.2982 - accuracy: 0.8351 - val_loss: 0.3195 - val_accuracy: 0.8166\n",
      "Epoch 57/100\n",
      "36/36 - 0s - loss: 0.3060 - accuracy: 0.8310 - val_loss: 0.2933 - val_accuracy: 0.8367\n",
      "Epoch 58/100\n",
      "36/36 - 0s - loss: 0.3052 - accuracy: 0.8318 - val_loss: 0.2996 - val_accuracy: 0.8300\n",
      "Epoch 59/100\n",
      "36/36 - 0s - loss: 0.3001 - accuracy: 0.8332 - val_loss: 0.3056 - val_accuracy: 0.8300\n",
      "Epoch 60/100\n",
      "36/36 - 0s - loss: 0.3010 - accuracy: 0.8349 - val_loss: 0.3103 - val_accuracy: 0.8166\n",
      "Epoch 61/100\n",
      "36/36 - 0s - loss: 0.3071 - accuracy: 0.8310 - val_loss: 0.2989 - val_accuracy: 0.8255\n",
      "Epoch 62/100\n",
      "36/36 - 0s - loss: 0.3042 - accuracy: 0.8307 - val_loss: 0.3067 - val_accuracy: 0.8345\n",
      "Epoch 63/100\n",
      "36/36 - 0s - loss: 0.3040 - accuracy: 0.8343 - val_loss: 0.2996 - val_accuracy: 0.8322\n",
      "Epoch 64/100\n",
      "36/36 - 0s - loss: 0.3011 - accuracy: 0.8354 - val_loss: 0.3165 - val_accuracy: 0.8188\n",
      "Epoch 65/100\n",
      "36/36 - 0s - loss: 0.3000 - accuracy: 0.8363 - val_loss: 0.2942 - val_accuracy: 0.8389\n",
      "Epoch 66/100\n",
      "36/36 - 0s - loss: 0.2998 - accuracy: 0.8340 - val_loss: 0.3137 - val_accuracy: 0.8143\n",
      "Epoch 67/100\n",
      "36/36 - 0s - loss: 0.2987 - accuracy: 0.8346 - val_loss: 0.2933 - val_accuracy: 0.8389\n",
      "Epoch 68/100\n",
      "36/36 - 0s - loss: 0.2996 - accuracy: 0.8346 - val_loss: 0.2994 - val_accuracy: 0.8322\n",
      "Epoch 69/100\n",
      "36/36 - 0s - loss: 0.2998 - accuracy: 0.8335 - val_loss: 0.3041 - val_accuracy: 0.8233\n",
      "Epoch 70/100\n",
      "36/36 - 0s - loss: 0.2995 - accuracy: 0.8343 - val_loss: 0.2977 - val_accuracy: 0.8300\n",
      "Epoch 71/100\n",
      "36/36 - 0s - loss: 0.3042 - accuracy: 0.8326 - val_loss: 0.2988 - val_accuracy: 0.8300\n",
      "Epoch 72/100\n",
      "36/36 - 0s - loss: 0.2993 - accuracy: 0.8357 - val_loss: 0.2988 - val_accuracy: 0.8300\n",
      "Epoch 73/100\n",
      "36/36 - 0s - loss: 0.2995 - accuracy: 0.8360 - val_loss: 0.3023 - val_accuracy: 0.8300\n",
      "Epoch 74/100\n",
      "36/36 - 0s - loss: 0.2978 - accuracy: 0.8374 - val_loss: 0.2969 - val_accuracy: 0.8389\n"
     ]
    },
    {
     "data": {
      "text/plain": [
       "<tensorflow.python.keras.callbacks.History at 0x1a98a329fa0>"
      ]
     },
     "execution_count": 13,
     "metadata": {},
     "output_type": "execute_result"
    }
   ],
   "source": [
    "batch_size = 100\n",
    "max_epochs = 100\n",
    "early_stopping = tf.keras.callbacks.EarlyStopping(patience=20)\n",
    "\n",
    "model.fit(\n",
    "    train_inputs,\n",
    "    train_targets,\n",
    "    batch_size = batch_size,\n",
    "    epochs = max_epochs,\n",
    "    callbacks = [early_stopping],\n",
    "    validation_data = (val_inputs,val_targets),\n",
    "    verbose=2\n",
    ")"
   ]
  },
  {
   "cell_type": "code",
   "execution_count": 18,
   "id": "particular-worse",
   "metadata": {},
   "outputs": [
    {
     "name": "stdout",
     "output_type": "stream",
     "text": [
      "14/14 [==============================] - 0s 2ms/step - loss: 0.3657 - accuracy: 0.8147\n"
     ]
    }
   ],
   "source": [
    "test_accuracy, test_loss = model.evaluate(test_inputs, test_targets)"
   ]
  },
  {
   "cell_type": "code",
   "execution_count": 20,
   "id": "legal-sunglasses",
   "metadata": {},
   "outputs": [
    {
     "name": "stdout",
     "output_type": "stream",
     "text": [
      "TEST accuracy 0.37 and test loss 0.81\n"
     ]
    }
   ],
   "source": [
    "print(\"TEST accuracy {0:.2f} and test loss {1:.2f}\".format(test_accuracy, test_loss))"
   ]
  },
  {
   "cell_type": "code",
   "execution_count": null,
   "id": "physical-messenger",
   "metadata": {},
   "outputs": [],
   "source": []
  }
 ],
 "metadata": {
  "kernelspec": {
   "display_name": "py3-TF2.0",
   "language": "python",
   "name": "py3-tf2.0"
  },
  "language_info": {
   "codemirror_mode": {
    "name": "ipython",
    "version": 3
   },
   "file_extension": ".py",
   "mimetype": "text/x-python",
   "name": "python",
   "nbconvert_exporter": "python",
   "pygments_lexer": "ipython3",
   "version": "3.8.8"
  }
 },
 "nbformat": 4,
 "nbformat_minor": 5
}
